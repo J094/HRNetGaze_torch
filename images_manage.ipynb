{
 "metadata": {
  "language_info": {
   "codemirror_mode": {
    "name": "ipython",
    "version": 3
   },
   "file_extension": ".py",
   "mimetype": "text/x-python",
   "name": "python",
   "nbconvert_exporter": "python",
   "pygments_lexer": "ipython3",
   "version": "3.7.10"
  },
  "orig_nbformat": 2,
  "kernelspec": {
   "name": "python3710jvsc74a57bd0f2edfc21b679c8125164000ff6c4a44f2c65f8942a5b0ad32d8d44e767687496",
   "display_name": "Python 3.7.10 64-bit ('cv_torch': conda)"
  }
 },
 "nbformat": 4,
 "nbformat_minor": 2,
 "cells": [
  {
   "cell_type": "code",
   "execution_count": 1,
   "metadata": {},
   "outputs": [],
   "source": [
    "import os\n",
    "# Util to manage files.\n",
    "import shutil"
   ]
  },
  {
   "cell_type": "code",
   "execution_count": 2,
   "metadata": {},
   "outputs": [],
   "source": [
    "file_path = os.path.abspath(r'E:\\Datasets\\UnityEyes_Windows\\480x640')\n",
    "train_path = os.path.join(file_path, 'train')\n",
    "val_path = os.path.join(file_path, 'val')\n",
    "num_entries = 1020000\n",
    "train_num = 1000000\n",
    "val_num = 20000"
   ]
  },
  {
   "cell_type": "code",
   "execution_count": 6,
   "metadata": {
    "tags": []
   },
   "outputs": [],
   "source": [
    "# Make dir for images and move images to correct path.\n",
    "# Example: 1000301.jpg should in path ./1/0/0/0301.jpg\n",
    "def mkdir4imgs(from_entry, to_entry, path):\n",
    "    assert from_entry > to_entry\n",
    "    for i in range(from_entry, to_entry, -1):\n",
    "        first_path = os.path.join(path, f'{int(i/1000000)}')\n",
    "        if not(os.path.exists(first_path)):\n",
    "            os.mkdir(first_path)\n",
    "        second_path = os.path.join(first_path, f'{int((i%1000000)/100000)}')\n",
    "        if not(os.path.exists(second_path)):\n",
    "            os.mkdir(second_path)\n",
    "        third_path = os.path.join(second_path, f'{int((i%100000)/10000)}')\n",
    "        if not(os.path.exists(third_path)):\n",
    "            os.mkdir(third_path)"
   ]
  },
  {
   "cell_type": "code",
   "execution_count": 4,
   "metadata": {},
   "outputs": [],
   "source": [
    "mkdir4imgs(train_num, 0, train_path)"
   ]
  },
  {
   "cell_type": "code",
   "execution_count": 7,
   "metadata": {},
   "outputs": [],
   "source": [
    "mkdir4imgs(train_num + val_num, train_num, val_path)"
   ]
  },
  {
   "cell_type": "code",
   "execution_count": 11,
   "metadata": {},
   "outputs": [],
   "source": [
    "# Move imgs to correct path.\n",
    "def imgs2dir(train_num, val_num, src_path, dst_path):\n",
    "    num_entries = train_num + val_num\n",
    "    for i in range(num_entries, 0, -1):\n",
    "        jpg_path = os.path.join(src_path, f'{i}.jpg')\n",
    "        json_path = os.path.join(src_path, f'{i}.json')\n",
    "        if os.path.exists(jpg_path) and os.path.exists(json_path):\n",
    "            if i > train_num:\n",
    "                d_path = os.path.join(\n",
    "                    dst_path, 'val', \n",
    "                    f'{int(i/1000000)}', \n",
    "                    f'{int((i%1000000)/100000)}', \n",
    "                    f'{int((i%100000)/10000)}',\n",
    "                    )         \n",
    "                shutil.move(jpg_path, d_path)\n",
    "                shutil.move(json_path, d_path)\n",
    "            else:\n",
    "                d_path = os.path.join(\n",
    "                    dst_path, 'train', \n",
    "                    f'{int(i/1000000)}', \n",
    "                    f'{int((i%1000000)/100000)}', \n",
    "                    f'{int((i%100000)/10000)}'\n",
    "                    )\n",
    "                shutil.move(jpg_path, d_path)\n",
    "                shutil.move(json_path, d_path)\n"
   ]
  },
  {
   "cell_type": "code",
   "execution_count": 12,
   "metadata": {},
   "outputs": [],
   "source": [
    "src_path = r'E:\\Datasets\\UnityEyes_Windows\\480x640_Deprecated\\train'\n",
    "dst_path = r'E:\\Datasets\\UnityEyes_Windows\\480x640'\n",
    "imgs2dir(train_num, val_num, src_path, dst_path)"
   ]
  },
  {
   "cell_type": "code",
   "execution_count": 2,
   "metadata": {},
   "outputs": [],
   "source": [
    "# Write file list to .txt file.\n",
    "dataset_path = r'E:\\Datasets\\UnityEyes_Windows\\480x640'\n",
    "val_txt = os.path.join(dataset_path, 'val/FileList.txt')\n",
    "train_txt = os.path.join(dataset_path, 'train/FileList.txt')\n",
    "with open(val_txt, mode='w') as f:\n",
    "    for i in range(1000001, 1020001, 1):\n",
    "        f.write(f'{i}\\n')\n",
    "with open(train_txt, mode='w') as f:\n",
    "    for i in range(1, 1000001, 1):\n",
    "        f.write(f'{i}\\n')"
   ]
  },
  {
   "cell_type": "code",
   "execution_count": null,
   "metadata": {},
   "outputs": [],
   "source": []
  }
 ]
}