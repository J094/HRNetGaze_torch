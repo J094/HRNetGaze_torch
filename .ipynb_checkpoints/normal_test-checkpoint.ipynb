{
 "cells": [
  {
   "cell_type": "code",
   "execution_count": 1,
   "id": "47e1be71",
   "metadata": {},
   "outputs": [],
   "source": [
    "import torch\n",
    "import torch.nn as nn"
   ]
  },
  {
   "cell_type": "code",
   "execution_count": 8,
   "id": "f1a6ea92",
   "metadata": {},
   "outputs": [],
   "source": [
    "conv1 = nn.Conv2d(1, 1, kernel_size=5, dilation=1)"
   ]
  },
  {
   "cell_type": "code",
   "execution_count": 9,
   "id": "fd0af787",
   "metadata": {},
   "outputs": [],
   "source": [
    "inputs = torch.ones((1, 1, 10, 10))"
   ]
  },
  {
   "cell_type": "code",
   "execution_count": 10,
   "id": "4874b7e9",
   "metadata": {},
   "outputs": [
    {
     "name": "stdout",
     "output_type": "stream",
     "text": [
      "torch.Size([1, 1, 10, 10])\n",
      "torch.Size([1, 1, 6, 6])\n",
      "tensor([[[[0.0252, 0.0252, 0.0252, 0.0252, 0.0252, 0.0252],\n",
      "          [0.0252, 0.0252, 0.0252, 0.0252, 0.0252, 0.0252],\n",
      "          [0.0252, 0.0252, 0.0252, 0.0252, 0.0252, 0.0252],\n",
      "          [0.0252, 0.0252, 0.0252, 0.0252, 0.0252, 0.0252],\n",
      "          [0.0252, 0.0252, 0.0252, 0.0252, 0.0252, 0.0252],\n",
      "          [0.0252, 0.0252, 0.0252, 0.0252, 0.0252, 0.0252]]]],\n",
      "       grad_fn=<MkldnnConvolutionBackward>)\n"
     ]
    }
   ],
   "source": [
    "print(inputs.shape)\n",
    "outputs = conv1(inputs)\n",
    "print(outputs.shape)\n",
    "print(outputs)"
   ]
  },
  {
   "cell_type": "code",
   "execution_count": null,
   "id": "c3c74a63",
   "metadata": {},
   "outputs": [],
   "source": []
  }
 ],
 "metadata": {
  "kernelspec": {
   "display_name": "Python 3",
   "language": "python",
   "name": "python3"
  },
  "language_info": {
   "codemirror_mode": {
    "name": "ipython",
    "version": 3
   },
   "file_extension": ".py",
   "mimetype": "text/x-python",
   "name": "python",
   "nbconvert_exporter": "python",
   "pygments_lexer": "ipython3",
   "version": "3.7.10"
  }
 },
 "nbformat": 4,
 "nbformat_minor": 5
}
